{
 "cells": [
  {
   "cell_type": "code",
   "execution_count": 3,
   "id": "0eb6d446-36de-413a-994c-0fbb1343f70a",
   "metadata": {},
   "outputs": [],
   "source": [
    "## Write a program to accept percentage from the user and display the grade:"
   ]
  },
  {
   "cell_type": "code",
   "execution_count": 4,
   "id": "f6aa1a11-aa23-415a-9607-daa85b4a1dc1",
   "metadata": {},
   "outputs": [
    {
     "name": "stdin",
     "output_type": "stream",
     "text": [
      "Enter your percentage:  90\n"
     ]
    },
    {
     "name": "stdout",
     "output_type": "stream",
     "text": [
      "Grade: B\n"
     ]
    }
   ],
   "source": [
    "percentage = float(input(\"Enter your percentage: \"))\n",
    "\n",
    "if percentage > 90:\n",
    "    print(\"Grade: A\")\n",
    "elif percentage > 80 and percentage <= 90:\n",
    "    print(\"Grade: B\")\n",
    "elif percentage >= 60 and percentage <= 80:\n",
    "    print(\"Grade: C\")\n",
    "elif percentage < 60:\n",
    "    print(\"Grade: D\")"
   ]
  },
  {
   "cell_type": "code",
   "execution_count": 5,
   "id": "56d2489e-fa9a-4e80-a64c-ab662c75a0b6",
   "metadata": {},
   "outputs": [],
   "source": [
    "## Program to accept the cost price of a bike and display the road tax to be paid."
   ]
  },
  {
   "cell_type": "code",
   "execution_count": 10,
   "id": "d1de886d-f223-4c05-b600-458fed09e59a",
   "metadata": {},
   "outputs": [
    {
     "name": "stdin",
     "output_type": "stream",
     "text": [
      "Enter the cost price of bike:  100001\n"
     ]
    },
    {
     "name": "stdout",
     "output_type": "stream",
     "text": [
      "tax: 15%\n"
     ]
    }
   ],
   "source": [
    "tax= int(input(\"Enter the cost price of bike: \"))\n",
    "\n",
    "if tax > 100000:\n",
    "    print(\"tax: 15%\")\n",
    "elif tax > 50000 and price <= 100000:\n",
    "    print(\"tax: 10%\")\n",
    "elif tax < 50000:\n",
    "    print(\"tax: 5%\")"
   ]
  },
  {
   "cell_type": "code",
   "execution_count": 11,
   "id": "0d42fa5e-1aed-4427-b1bd-9d678488143b",
   "metadata": {},
   "outputs": [],
   "source": [
    "## Accept any city from the user and display monument from that city"
   ]
  },
  {
   "cell_type": "code",
   "execution_count": 12,
   "id": "75a2dd93-5a0f-435b-85cb-2ce30ba3af21",
   "metadata": {},
   "outputs": [
    {
     "name": "stdin",
     "output_type": "stream",
     "text": [
      "Enter a city:  Delhi\n"
     ]
    },
    {
     "name": "stdout",
     "output_type": "stream",
     "text": [
      "Red Fort\n"
     ]
    }
   ],
   "source": [
    "city = input(\"Enter a city: \")\n",
    "\n",
    "if city == \"Delhi\":\n",
    "    print(\"Red Fort\")\n",
    "elif city == \"Agra\":\n",
    "    print(\"Taj Mahal\")\n",
    "elif city == \"Jaipur\":\n",
    "    print(\"Jai Mahal\")\n",
    "else:\n",
    "    print(\"Monument information not available for this city.\")"
   ]
  },
  {
   "cell_type": "code",
   "execution_count": 13,
   "id": "9b7b7f4c-fdd7-4984-84af-24c6005945ec",
   "metadata": {},
   "outputs": [],
   "source": [
    "## how many time a given number can be divided by 3 befote it is less than or equal to 10\n",
    "## This program takes a number as input from the user and uses a while loop to continuously divide the number by 3 \n",
    "## until it is less than or equal to 10. The count variable is used to keep track of how many times the number has \n",
    "## been divided by 3.\n",
    "## The int() function is used to convert the user input (which is a string) into an integer\n",
    "## so it can be used in the division operation.\n",
    "## After the loop terminates, the program will print the final count to the console."
   ]
  },
  {
   "cell_type": "code",
   "execution_count": 14,
   "id": "7ed34e99-86b3-45c9-a2c9-52f610c10c31",
   "metadata": {},
   "outputs": [
    {
     "name": "stdin",
     "output_type": "stream",
     "text": [
      "Enter a number:  6\n"
     ]
    },
    {
     "name": "stdout",
     "output_type": "stream",
     "text": [
      "The number can be divided by 3 0 times before it is less than or equal to 10.\n"
     ]
    }
   ],
   "source": [
    "number = int(input(\"Enter a number: \"))\n",
    "count = 0\n",
    "\n",
    "while number > 10:\n",
    "    number = number / 3\n",
    "    count += 1\n",
    "\n",
    "print(\"The number can be divided by 3\", count, \"times before it is less than or equal to 10.\")"
   ]
  },
  {
   "cell_type": "code",
   "execution_count": 15,
   "id": "813a017a-f3fb-48ee-90d7-ea9d81136bf8",
   "metadata": {},
   "outputs": [],
   "source": [
    "## why and when to use while loop in python give example"
   ]
  },
  {
   "cell_type": "code",
   "execution_count": 16,
   "id": "92889b94-8649-4182-900f-3c1c6813fa67",
   "metadata": {},
   "outputs": [],
   "source": [
    "## The while loop in Python is used to repeatedly execute a block of code as long as a certain condition is met. \n",
    "## In this example, the user is prompted to enter a number.\n",
    "\n",
    "## The while loop then calculates the factorial of that number by repeatedly multiplying factorial by num and decrementing num until num is less than or equal to 1. \n",
    "## After the loop terminates, the final value of factorial is printed to the console.\n",
    "\n",
    "## The while loop is particularly useful when you don't know beforehand how many times you need to execute the loop. \n",
    "## It allows you to keep executing the loop until a certain condition is met, \n",
    "## at which point you can exit the loop and move on to the next part of your program."
   ]
  },
  {
   "cell_type": "code",
   "execution_count": 17,
   "id": "983bb06a-508f-44dd-b652-5f285d9e3434",
   "metadata": {},
   "outputs": [
    {
     "name": "stdin",
     "output_type": "stream",
     "text": [
      "Enter a number:  5\n"
     ]
    },
    {
     "name": "stdout",
     "output_type": "stream",
     "text": [
      "The factorial of the number is: 120\n"
     ]
    }
   ],
   "source": [
    "num = int(input(\"Enter a number: \"))\n",
    "factorial = 1\n",
    "\n",
    "while num > 1:\n",
    "    factorial = factorial * num\n",
    "    num = num - 1\n",
    "\n",
    "print(\"The factorial of the number is:\", factorial)"
   ]
  },
  {
   "cell_type": "code",
   "execution_count": 18,
   "id": "57c7d496-b3b3-4af0-a7b9-0a750bec363c",
   "metadata": {},
   "outputs": [],
   "source": [
    "## use nested while loop to print 3 differnt pattern"
   ]
  },
  {
   "cell_type": "code",
   "execution_count": 19,
   "id": "8514c635-3f89-46f5-a119-36fb5ada6917",
   "metadata": {},
   "outputs": [
    {
     "name": "stdin",
     "output_type": "stream",
     "text": [
      "Enter the number of rows for pattern 1:  5\n"
     ]
    },
    {
     "name": "stdout",
     "output_type": "stream",
     "text": [
      "1 \n",
      "\n",
      "1 2 \n",
      "\n",
      "1 2 3 \n",
      "\n",
      "1 2 3 4 \n",
      "\n",
      "1 2 3 4 5 \n",
      "\n"
     ]
    }
   ],
   "source": [
    "rows = int(input(\"Enter the number of rows for pattern 1: \"))\n",
    "\n",
    "i = 1\n",
    "while i <= rows:\n",
    "    j = 1\n",
    "    while j <= i:\n",
    "        print(j, end=\" \")\n",
    "        j = j + 1\n",
    "    print(\"\\n\")\n",
    "    i = i + 1"
   ]
  },
  {
   "cell_type": "code",
   "execution_count": 20,
   "id": "047c4f98-4e25-421f-b59c-60cbb61bbed6",
   "metadata": {},
   "outputs": [
    {
     "name": "stdin",
     "output_type": "stream",
     "text": [
      "Enter the number of rows for pattern 3:  8\n"
     ]
    },
    {
     "name": "stdout",
     "output_type": "stream",
     "text": [
      "* \n",
      "\n",
      "* * \n",
      "\n",
      "* * * \n",
      "\n",
      "* * * * \n",
      "\n",
      "* * * * * \n",
      "\n",
      "* * * * * * \n",
      "\n",
      "* * * * * * * \n",
      "\n",
      "* * * * * * * * \n",
      "\n"
     ]
    }
   ],
   "source": [
    "rows = int(input(\"Enter the number of rows for pattern 3: \"))\n",
    "\n",
    "i = 1\n",
    "while i <= rows:\n",
    "    j = 1\n",
    "    while j <= i:\n",
    "        print(\"*\", end=\" \")\n",
    "        j = j + 1\n",
    "    print(\"\\n\")\n",
    "    i = i + 1"
   ]
  },
  {
   "cell_type": "code",
   "execution_count": 21,
   "id": "97a888bd-0ce1-41fb-94ba-a93026bf6513",
   "metadata": {},
   "outputs": [
    {
     "name": "stdin",
     "output_type": "stream",
     "text": [
      "Enter the number of rows for pattern 2:  7\n"
     ]
    },
    {
     "name": "stdout",
     "output_type": "stream",
     "text": [
      "1 2 3 4 5 6 7 \n",
      "\n",
      "1 2 3 4 5 6 \n",
      "\n",
      "1 2 3 4 5 \n",
      "\n",
      "1 2 3 4 \n",
      "\n",
      "1 2 3 \n",
      "\n",
      "1 2 \n",
      "\n",
      "1 \n",
      "\n"
     ]
    }
   ],
   "source": [
    "\n",
    "rows = int(input(\"Enter the number of rows for pattern 2: \"))\n",
    "\n",
    "i = rows\n",
    "while i >= 1:\n",
    "    j = 1\n",
    "    while j <= i:\n",
    "        print(j, end=\" \")\n",
    "        j = j + 1\n",
    "    print(\"\\n\")\n",
    "    i = i - 1"
   ]
  },
  {
   "cell_type": "code",
   "execution_count": 22,
   "id": "0f62e39a-bc0d-49a3-87e5-c8fdea4291ed",
   "metadata": {},
   "outputs": [],
   "source": [
    "## reverse a while loop to display the number from 10 to 1"
   ]
  },
  {
   "cell_type": "code",
   "execution_count": null,
   "id": "057edd54-9f06-44ab-bdb3-d79906ddb391",
   "metadata": {},
   "outputs": [],
   "source": []
  }
 ],
 "metadata": {
  "kernelspec": {
   "display_name": "Python 3 (ipykernel)",
   "language": "python",
   "name": "python3"
  },
  "language_info": {
   "codemirror_mode": {
    "name": "ipython",
    "version": 3
   },
   "file_extension": ".py",
   "mimetype": "text/x-python",
   "name": "python",
   "nbconvert_exporter": "python",
   "pygments_lexer": "ipython3",
   "version": "3.10.8"
  }
 },
 "nbformat": 4,
 "nbformat_minor": 5
}
